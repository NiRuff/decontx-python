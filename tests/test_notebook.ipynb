{
 "cells": [
  {
   "cell_type": "code",
   "execution_count": 1,
   "id": "45a2a61c13a17ec0",
   "metadata": {},
   "outputs": [
    {
     "name": "stderr",
     "output_type": "stream",
     "text": [
      "C:\\Users\\nruff\\PycharmProjects\\decontx-python\\.venv\\Lib\\site-packages\\tqdm\\auto.py:21: TqdmWarning: IProgress not found. Please update jupyter and ipywidgets. See https://ipywidgets.readthedocs.io/en/stable/user_install.html\n",
      "  from .autonotebook import tqdm as notebook_tqdm\n"
     ]
    },
    {
     "name": "stdout",
     "output_type": "stream",
     "text": [
      "Created data: 300 genes, 1100 droplets\n",
      "Filtered: 100 cells\n",
      "True contamination: 15.0%\n"
     ]
    }
   ],
   "source": [
    "# First, let's see what we can import\n",
    "import sys\n",
    "import decontx\n",
    "import numpy as np\n",
    "import pandas as pd\n",
    "import scipy.sparse as sp\n",
    "import matplotlib.pyplot as plt\n",
    "\n",
    "\n",
    "\n",
    "def create_test_data(n_genes=500, n_cells=200, n_empty=1000, contamination=0.1, seed=42):\n",
    "    \"\"\"Create simple synthetic data for testing.\"\"\"\n",
    "    np.random.seed(seed)\n",
    "\n",
    "    # Create true expression for 5 cell types\n",
    "    n_types = 5\n",
    "    cells_per_type = n_cells // n_types\n",
    "    true_counts = np.zeros((n_genes, n_cells))\n",
    "\n",
    "    # Each cell type expresses different genes\n",
    "    for cell_type in range(n_types):\n",
    "        start_cell = cell_type * cells_per_type\n",
    "        end_cell = min(start_cell + cells_per_type, n_cells)\n",
    "\n",
    "        # High expression for marker genes\n",
    "        marker_genes = range(cell_type * 20, (cell_type + 1) * 20)\n",
    "        for cell in range(start_cell, end_cell):\n",
    "            true_counts[list(marker_genes), cell] = np.random.poisson(20, 20)\n",
    "            # Low background\n",
    "            other_genes = list(set(range(n_genes)) - set(marker_genes))\n",
    "            true_counts[other_genes, cell] = np.random.poisson(0.5, len(other_genes))\n",
    "\n",
    "    # Create soup profile (average of all cells)\n",
    "    soup_profile = np.mean(true_counts, axis=1)\n",
    "    soup_profile = soup_profile / soup_profile.sum()\n",
    "\n",
    "    # Add contamination\n",
    "    observed = true_counts.copy()\n",
    "    for cell in range(n_cells):\n",
    "        cell_total = true_counts[:, cell].sum()\n",
    "        contam_counts = np.random.poisson(soup_profile * cell_total * contamination)\n",
    "        observed[:, cell] += contam_counts\n",
    "\n",
    "    # Create empty droplets\n",
    "    empty_counts = np.zeros((n_genes, n_empty))\n",
    "    for i in range(n_empty):\n",
    "        n_umis = np.random.poisson(10)  # Low UMI counts\n",
    "        if n_umis > 0:\n",
    "            empty_counts[:, i] = np.random.multinomial(n_umis, soup_profile)\n",
    "\n",
    "    # Combine for raw matrix\n",
    "    raw = np.hstack([empty_counts, observed])\n",
    "\n",
    "    return {\n",
    "        'raw': sp.csr_matrix(raw),\n",
    "        'filtered': sp.csr_matrix(observed),\n",
    "        'true': sp.csr_matrix(true_counts),\n",
    "        'genes': [f\"Gene_{i:04d}\" for i in range(n_genes)],\n",
    "        'cells': [f\"Cell_{i:04d}\" for i in range(n_cells)],\n",
    "        'contamination': contamination,\n",
    "        'cell_types': np.repeat(range(n_types), cells_per_type)[:n_cells]\n",
    "    }\n",
    "\n",
    "# Create test data\n",
    "data = create_test_data(n_genes=300, n_cells=100, contamination=0.15, seed=42)\n",
    "print(f\"Created data: {data['raw'].shape[0]} genes, {data['raw'].shape[1]} droplets\")\n",
    "print(f\"Filtered: {data['filtered'].shape[1]} cells\")\n",
    "print(f\"True contamination: {data['contamination']:.1%}\")"
   ]
  },
  {
   "cell_type": "code",
   "execution_count": 2,
   "id": "6b6d5b4f-7578-4b26-a000-b9d4b53ef808",
   "metadata": {},
   "outputs": [
    {
     "name": "stdout",
     "output_type": "stream",
     "text": [
      "✓ Successfully imported decontx functions\n"
     ]
    }
   ],
   "source": [
    "# Clean imports now\n",
    "from decontx import decontx, simulate_contamination\n",
    "import anndata as adata_module\n",
    "import pandas as pd\n",
    "import numpy as np\n",
    "\n",
    "\n",
    "print(\"✓ Successfully imported decontx functions\")"
   ]
  },
  {
   "cell_type": "code",
   "execution_count": 3,
   "id": "e614ac42-fdb2-46f0-a86d-c4b44168433a",
   "metadata": {},
   "outputs": [
    {
     "name": "stdout",
     "output_type": "stream",
     "text": [
      "Created AnnData: (100, 300) (cells x genes)\n",
      "Cell types: [0 1 2 3 4]\n",
      "Data type: <class 'scipy.sparse._csc.csc_matrix'>\n"
     ]
    }
   ],
   "source": [
    "# Create AnnData object from your test data\n",
    "adata = adata_module.AnnData(\n",
    "    X=data['filtered'].T,  # AnnData expects cells x genes\n",
    "    var=pd.DataFrame(index=data['genes']),\n",
    "    obs=pd.DataFrame(index=data['cells'])\n",
    ")\n",
    "\n",
    "# Add cell type info\n",
    "adata.obs['cell_type'] = data['cell_types']\n",
    "\n",
    "print(f\"Created AnnData: {adata.shape} (cells x genes)\")\n",
    "print(f\"Cell types: {adata.obs['cell_type'].unique()}\")\n",
    "print(f\"Data type: {type(adata.X)}\")"
   ]
  },
  {
   "cell_type": "code",
   "execution_count": 4,
   "id": "1bfbbce6-3cb9-42b9-bf93-7635625fe6b0",
   "metadata": {},
   "outputs": [
    {
     "name": "stdout",
     "output_type": "stream",
     "text": [
      "Running basic decontx...\n",
      "2025-09-04 10:57:51 --------------------------------------------------\n",
      "2025-09-04 10:57:51 Starting DecontX\n",
      "2025-09-04 10:57:51 --------------------------------------------------\n",
      "2025-09-04 10:57:51 .. Generating UMAP and estimating cell types\n"
     ]
    },
    {
     "name": "stderr",
     "output_type": "stream",
     "text": [
      "C:\\Users\\nruff\\PycharmProjects\\decontx-python\\.venv\\Lib\\site-packages\\anndata\\_core\\anndata.py:633: FutureWarning: You are attempting to set `X` to a matrix on a view which has non-unique indices. The resulting `adata.X` will likely not equal the value to which you set it. To avoid this potential issue, please make a copy of the data first. In the future, this operation will throw an error.\n",
      "  warnings.warn(msg, FutureWarning, stacklevel=1)\n",
      "C:\\Users\\nruff\\PycharmProjects\\decontx-python\\decontx\\core.py:268: ImplicitModificationWarning: Modifying `X` on a view results in data being overridden\n",
      "  adata_temp.X = X_norm\n",
      "C:\\Users\\nruff\\PycharmProjects\\decontx-python\\.venv\\Lib\\site-packages\\umap\\umap_.py:1952: UserWarning: n_jobs value 1 overridden to 1 by setting random_state. Use no seed for parallelism.\n",
      "  warn(\n"
     ]
    },
    {
     "name": "stdout",
     "output_type": "stream",
     "text": [
      "2025-09-04 10:57:59 .... Generated 5 clusters using DBSCAN (eps=1.0)\n",
      "2025-09-04 10:57:59 .... Using 5 cell clusters\n",
      "2025-09-04 10:57:59 .. Processing 100 cells and 300 genes\n",
      "2025-09-04 10:57:59 .... Estimating contamination\n",
      "2025-09-04 10:58:00 ...... Mean contamination: 25.78%\n",
      "2025-09-04 10:58:00 ...... Median contamination: 25.75%\n",
      "2025-09-04 10:58:00 ...... Range: 19.97% - 30.15%\n",
      "2025-09-04 10:58:00 ...... Cells >50% contaminated: 0\n",
      "2025-09-04 10:58:00 ...... Converged in 0 likelihood evaluations\n",
      "2025-09-04 10:58:00 .. Storing results\n",
      "2025-09-04 10:58:00 .... Stored decontaminated counts in .layers['decontX_counts']\n",
      "2025-09-04 10:58:00 .... Stored contamination estimates in .obs['decontX_contamination']\n",
      "2025-09-04 10:58:00 --------------------------------------------------\n",
      "2025-09-04 10:58:00 Completed DecontX\n",
      "2025-09-04 10:58:00 --------------------------------------------------\n",
      "🎉 It worked! (surprising)\n",
      "Result shape: (100, 300)\n"
     ]
    }
   ],
   "source": [
    "# Very basic decontx test - expect this to break early!\n",
    "try:\n",
    "    print(\"Running basic decontx...\")\n",
    "    \n",
    "    result = decontx(\n",
    "        adata, \n",
    "        copy=True,\n",
    "        verbose=True,\n",
    "        max_iter=5,  # Very short for testing\n",
    "        seed=42\n",
    "    )\n",
    "    \n",
    "    print(\"🎉 It worked! (surprising)\")\n",
    "    print(f\"Result shape: {result.shape}\")\n",
    "    \n",
    "except Exception as e:\n",
    "    print(f\"💥 Expected error: {e}\")\n",
    "    \n",
    "    # Show just the error type and message, not full traceback yet\n",
    "    import traceback\n",
    "    print(f\"Error type: {type(e).__name__}\")\n",
    "    print(\"Last few lines of traceback:\")\n",
    "    tb_lines = traceback.format_exc().split('\\n')\n",
    "    for line in tb_lines[-6:]:\n",
    "        if line.strip():\n",
    "            print(f\"  {line}\")\n",
    "\n"
   ]
  },
  {
   "cell_type": "code",
   "execution_count": 5,
   "id": "8e4c47d9-d7f2-4c71-ba8c-eaf2927809ee",
   "metadata": {},
   "outputs": [
    {
     "name": "stdout",
     "output_type": "stream",
     "text": [
      "Results in returned object:\n",
      "Layers: ['decontX_counts']\n",
      "Obs columns: ['cell_type', 'decontX_contamination', 'decontX_clusters']\n",
      "Contamination range: 20.0% - 30.2%\n",
      "Mean contamination: 25.8%\n",
      "Decontaminated matrix shape: (100, 300)\n",
      "Original sum: 62325\n",
      "Decontaminated sum: 46659\n"
     ]
    }
   ],
   "source": [
    "# Check the returned result object, not the original adata\n",
    "print(\"Results in returned object:\")\n",
    "print(f\"Layers: {list(result.layers.keys())}\")\n",
    "print(f\"Obs columns: {list(result.obs.columns)}\")\n",
    "\n",
    "# Check for contamination estimates\n",
    "if 'decontX_contamination' in result.obs:\n",
    "    print(f\"Contamination range: {result.obs['decontX_contamination'].min():.1%} - {result.obs['decontX_contamination'].max():.1%}\")\n",
    "    print(f\"Mean contamination: {result.obs['decontX_contamination'].mean():.1%}\")\n",
    "\n",
    "# Check for decontaminated counts\n",
    "if 'decontX_counts' in result.layers:\n",
    "    print(f\"Decontaminated matrix shape: {result.layers['decontX_counts'].shape}\")\n",
    "    print(f\"Original sum: {adata.X.sum():.0f}\")\n",
    "    print(f\"Decontaminated sum: {result.layers['decontX_counts'].sum():.0f}\")"
   ]
  },
  {
   "cell_type": "code",
   "execution_count": 6,
   "id": "26cd9fd7-ae04-4f98-b1e7-82ff1324e99f",
   "metadata": {},
   "outputs": [
    {
     "data": {
      "image/png": "[encoded data removed]",
      "text/plain": [
       "<Figure size 1200x400 with 2 Axes>"
      ]
     },
     "metadata": {},
     "output_type": "display_data"
    }
   ],
   "source": [
    "# Let's compare original vs decontaminated\n",
    "import matplotlib.pyplot as plt\n",
    "\n",
    "# Check a few marker genes\n",
    "marker_genes = [f\"Gene_{i:04d}\" for i in [0, 20, 40, 60, 80]]  # One from each cell type\n",
    "gene_idx = [result.var_names.get_loc(g) for g in marker_genes if g in result.var_names]\n",
    "\n",
    "if gene_idx:\n",
    "    fig, axes = plt.subplots(1, 2, figsize=(12, 4))\n",
    "    \n",
    "    # Original expression\n",
    "    axes[0].boxplot([result.X[:, i].toarray().flatten() for i in gene_idx])\n",
    "    axes[0].set_title(\"Original Expression\")\n",
    "    axes[0].set_xticklabels([f\"Gene_{i*20}\" for i in range(len(gene_idx))])\n",
    "    \n",
    "    # Decontaminated expression  \n",
    "    axes[1].boxplot([result.layers['decontX_counts'][:, i] for i in gene_idx])\n",
    "    axes[1].set_title(\"Decontaminated Expression\")\n",
    "    axes[1].set_xticklabels([f\"Gene_{i*20}\" for i in range(len(gene_idx))])\n",
    "    \n",
    "    plt.tight_layout()\n",
    "    plt.show()"
   ]
  },
  {
   "cell_type": "code",
   "execution_count": 7,
   "id": "ff3751ce-2a10-41c3-ab80-05a4dc8b2ee0",
   "metadata": {},
   "outputs": [
    {
     "name": "stderr",
     "output_type": "stream",
     "text": [
      "Error importing in API mode: ImportError('On Windows, cffi mode \"ANY\" is only \"ABI\".')\n",
      "Trying to import in ABI mode.\n"
     ]
    },
    {
     "name": "stdout",
     "output_type": "stream",
     "text": [
      "🔬 DecontX Python vs R Comparison\n",
      "\n",
      "=== R SETUP ===\n",
      "\n",
      "    WARNING: The R package \"reticulate\" only fixed recently\n",
      "    an issue that caused a segfault when used with rpy2:\n",
      "    https://github.com/rstudio/reticulate/pull/1188\n",
      "    Make sure that you use a version of that package that includes\n",
      "    the fix.\n",
      "    ✅ R decontX loaded successfully\n",
      "\n",
      "=== DATA PREPARATION ===\n",
      "✅ Created test data: (100, 300) (cells x genes)\n",
      "\n",
      "=== PYTHON DECONTX ===\n"
     ]
    },
    {
     "name": "stderr",
     "output_type": "stream",
     "text": [
      "C:\\Users\\nruff\\PycharmProjects\\decontx-python\\.venv\\Lib\\site-packages\\anndata\\_core\\anndata.py:633: FutureWarning: You are attempting to set `X` to a matrix on a view which has non-unique indices. The resulting `adata.X` will likely not equal the value to which you set it. To avoid this potential issue, please make a copy of the data first. In the future, this operation will throw an error.\n",
      "  warnings.warn(msg, FutureWarning, stacklevel=1)\n",
      "C:\\Users\\nruff\\PycharmProjects\\decontx-python\\decontx\\core.py:268: ImplicitModificationWarning: Modifying `X` on a view results in data being overridden\n",
      "  adata_temp.X = X_norm\n",
      "C:\\Users\\nruff\\PycharmProjects\\decontx-python\\.venv\\Lib\\site-packages\\umap\\umap_.py:1952: UserWarning: n_jobs value 1 overridden to 1 by setting random_state. Use no seed for parallelism.\n",
      "  warn(\n"
     ]
    },
    {
     "name": "stdout",
     "output_type": "stream",
     "text": [
      "✅ Python completed: 5 clusters\n",
      "\n",
      "=== R DECONTX ===\n",
      "✅ R completed: 2 clusters\n",
      "\n",
      "=== COMPARISON RESULTS ===\n",
      "True contamination:   15.0%\n",
      "Python: Mean=25.8%, Std=2.2%, Clusters=5\n",
      "R:      Mean=15.9%, Std=8.4%, Clusters=2\n",
      "Correlation: 0.097\n",
      "Mean Absolute Error: 10.6%\n"
     ]
    }
   ],
   "source": [
    "# Complete Python vs R decontX comparison\n",
    "import rpy2.robjects as ro\n",
    "import numpy as np\n",
    "import pandas as pd\n",
    "import scipy.sparse as sp\n",
    "import anndata as adata_module\n",
    "from decontx import decontx\n",
    "\n",
    "print(\"🔬 DecontX Python vs R Comparison\")\n",
    "\n",
    "# 1. Setup R environment\n",
    "print(\"\\n=== R SETUP ===\")\n",
    "try:\n",
    "    ro.r('library(decontX)')\n",
    "    ro.r('library(Matrix)')\n",
    "    print(\"✅ R decontX loaded successfully\")\n",
    "except Exception as e:\n",
    "    print(f\"❌ Failed to load R packages: {e}\")\n",
    "    exit()\n",
    "\n",
    "# 2. Create test data\n",
    "def create_test_data(n_genes=300, n_cells=100, n_empty=1000, contamination=0.15, seed=42):\n",
    "    np.random.seed(seed)\n",
    "    n_types = 5\n",
    "    cells_per_type = n_cells // n_types\n",
    "    true_counts = np.zeros((n_genes, n_cells))\n",
    "    \n",
    "    for cell_type in range(n_types):\n",
    "        start_cell = cell_type * cells_per_type\n",
    "        end_cell = min(start_cell + cells_per_type, n_cells)\n",
    "        marker_genes = range(cell_type * 20, (cell_type + 1) * 20)\n",
    "        for cell in range(start_cell, end_cell):\n",
    "            true_counts[list(marker_genes), cell] = np.random.poisson(20, 20)\n",
    "            other_genes = list(set(range(n_genes)) - set(marker_genes))\n",
    "            true_counts[other_genes, cell] = np.random.poisson(0.5, len(other_genes))\n",
    "    \n",
    "    soup_profile = np.mean(true_counts, axis=1)\n",
    "    soup_profile = soup_profile / soup_profile.sum()\n",
    "    \n",
    "    observed = true_counts.copy()\n",
    "    for cell in range(n_cells):\n",
    "        cell_total = true_counts[:, cell].sum()\n",
    "        contam_counts = np.random.poisson(soup_profile * cell_total * contamination)\n",
    "        observed[:, cell] += contam_counts\n",
    "    \n",
    "    return {\n",
    "        'filtered': sp.csr_matrix(observed),\n",
    "        'genes': [f\"Gene_{i:04d}\" for i in range(n_genes)],\n",
    "        'cells': [f\"Cell_{i:04d}\" for i in range(n_cells)],\n",
    "        'contamination': contamination,\n",
    "        'cell_types': np.repeat(range(n_types), cells_per_type)[:n_cells]\n",
    "    }\n",
    "\n",
    "# 3. Prepare data\n",
    "print(\"\\n=== DATA PREPARATION ===\")\n",
    "data = create_test_data(n_genes=300, n_cells=100, contamination=0.15, seed=42)\n",
    "adata = adata_module.AnnData(\n",
    "    X=data['filtered'].T,\n",
    "    var=pd.DataFrame(index=data['genes']),\n",
    "    obs=pd.DataFrame(index=data['cells'])\n",
    ")\n",
    "adata.obs['cell_type'] = data['cell_types']\n",
    "print(f\"✅ Created test data: {adata.shape} (cells x genes)\")\n",
    "\n",
    "# 4. Run Python decontX\n",
    "print(\"\\n=== PYTHON DECONTX ===\")\n",
    "python_result = decontx(\n",
    "    adata, \n",
    "    copy=True, \n",
    "    verbose=False, \n",
    "    max_iter=5, \n",
    "    seed=42,\n",
    "    var_genes=2000,  # Match R default\n",
    "    dbscan_eps=1.0\n",
    ")\n",
    "print(f\"✅ Python completed: {len(np.unique(python_result.obs['decontX_clusters']))} clusters\")\n",
    "\n",
    "# 5. R decontX function\n",
    "def run_r_decontx(adata):\n",
    "    counts_matrix = adata.X.T.toarray().astype(int)\n",
    "    ro.globalenv['counts_data'] = ro.r.matrix(\n",
    "        ro.FloatVector(counts_matrix.flatten()), \n",
    "        nrow=counts_matrix.shape[0], \n",
    "        ncol=counts_matrix.shape[1]\n",
    "    )\n",
    "    \n",
    "    ro.r('''\n",
    "    set.seed(42)\n",
    "    r_result <- decontX(x = counts_data, z = NULL, maxIter = 5, seed = 42, verbose = FALSE)\n",
    "    ''')\n",
    "    \n",
    "    return {\n",
    "        'contamination': np.array(ro.r('as.numeric(r_result$contamination)')),\n",
    "        'clusters': np.array(ro.r('as.numeric(r_result$z)'))\n",
    "    }\n",
    "\n",
    "# 6. Run R decontX\n",
    "print(\"\\n=== R DECONTX ===\")\n",
    "r_results = run_r_decontx(adata)\n",
    "print(f\"✅ R completed: {len(np.unique(r_results['clusters']))} clusters\")\n",
    "\n",
    "# 7. Compare results\n",
    "print(\"\\n=== COMPARISON RESULTS ===\")\n",
    "py_contam = python_result.obs['decontX_contamination'].values\n",
    "r_contam = r_results['contamination']\n",
    "\n",
    "print(f\"True contamination:   {data['contamination']:.1%}\")\n",
    "print(f\"Python: Mean={py_contam.mean():.1%}, Std={py_contam.std():.1%}, Clusters={len(np.unique(python_result.obs['decontX_clusters']))}\")\n",
    "print(f\"R:      Mean={r_contam.mean():.1%}, Std={r_contam.std():.1%}, Clusters={len(np.unique(r_results['clusters']))}\")\n",
    "\n",
    "correlation = np.corrcoef(py_contam, r_contam)[0, 1]\n",
    "mae = np.mean(np.abs(py_contam - r_contam))\n",
    "print(f\"Correlation: {correlation:.3f}\")\n",
    "print(f\"Mean Absolute Error: {mae:.1%}\")"
   ]
  },
  {
   "cell_type": "code",
   "execution_count": null,
   "id": "38f5576e-1a38-4b30-aaa0-2744d5de7fba",
   "metadata": {},
   "outputs": [],
   "source": []
  }
 ],
 "metadata": {
  "kernelspec": {
   "display_name": "Python 3 (ipykernel)",
   "language": "python",
   "name": "python3"
  },
  "language_info": {
   "codemirror_mode": {
    "name": "ipython",
    "version": 3
   },
   "file_extension": ".py",
   "mimetype": "text/x-python",
   "name": "python",
   "nbconvert_exporter": "python",
   "pygments_lexer": "ipython3",
   "version": "3.12.7"
  }
 },
 "nbformat": 4,
 "nbformat_minor": 5
}
